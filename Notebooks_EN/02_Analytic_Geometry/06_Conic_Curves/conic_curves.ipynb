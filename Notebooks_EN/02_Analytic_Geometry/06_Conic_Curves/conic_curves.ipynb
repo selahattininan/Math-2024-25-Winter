{
  "cells": [
    {
      "cell_type": "markdown",
      "metadata": {
        "id": "3wgcdwT5hFQH"
      },
      "source": [
        "## Tasks related to conic sections\n",
        "\n",
        "**Visualize each task.** - Python, GeoGebra, Wolfram Alpha, ...\n",
        "\n",
        "* Find the equation of a circle with center at point $A(1,2)$ and radius $r=3$.\n",
        "* Find the equation of a parabola intersecting the $Ox$ axis at points $x=2$, $x=4$, and passing through point $y(3)=1$.\n",
        "* Find the center of the ellipse with the equation $x^2 + 4y^2 - 4x - 16y + 16 = 0$.\n",
        "* Find the slope ($m>0$) of the line $y=mx-5$ that is tangent to the circle with the equation $x^2 + y^2=1$.\n",
        "* Find the intersection points of the hyperbola $x^2 - y^2 = 1$ with the ellipse's line $x^2 + 4y^2 = 6$.\n",
        "* For the given hyperbola $x^2 - y^2 = 1$, find the distance between its branches."
      ]
    },
    {
      "cell_type": "code",
      "execution_count": null,
      "metadata": {
        "id": "YA6x3jRpLpI8"
      },
      "outputs": [],
      "source": [
        "import numpy as np\n",
        "import matplotlib.pyplot as plt\n"
      ]
    },
    {
      "cell_type": "code",
      "execution_count": null,
      "metadata": {
        "colab": {
          "base_uri": "https://localhost:8080/"
        },
        "id": "LqItIWt0g7mb",
        "outputId": "33463233-c257-4686-abba-01c2c86579ef"
      },
      "outputs": [
        {
          "name": "stdout",
          "output_type": "stream",
          "text": [
            "### Task 1: Equation of a Circle ###\n",
            "Equation of the circle: (x - 1)^2 + (y - 2)^2 = 9\n"
          ]
        }
      ],
      "source": [
        "# Task 1:\n",
        "print(\"### Task 1: Equation of a Circle ###\")\n",
        "# Circle with center A(1, 2) and radius r = 3\n",
        "center = (1, 2)\n",
        "radius = 3\n",
        "circle_eq = f\"(x - {center[0]})^2 + (y - {center[1]})^2 = {radius**2}\"\n",
        "print(f\"Equation of the circle: {circle_eq}\")\n"
      ]
    },
    {
      "cell_type": "code",
      "execution_count": null,
      "metadata": {
        "colab": {
          "base_uri": "https://localhost:8080/"
        },
        "id": "sLkUJnZJLaih",
        "outputId": "74fee0d7-a779-4d54-e288-4058dfd6cf1a"
      },
      "outputs": [
        {
          "name": "stdout",
          "output_type": "stream",
          "text": [
            "\n",
            "### Task 2: Equation of a Parabola ###\n",
            "Equation of the parabola: y = 1.00(x - 2)(x - 4)\n"
          ]
        }
      ],
      "source": [
        "# Task 2:\n",
        "print(\"\\n### Task 2: Equation of a Parabola ###\")\n",
        "# Parabola intersects OX at x = 2, x = 4 and passes through (3, 1)\n",
        "x1, x2 = 2, 4\n",
        "x_point, y_point = 3, 1\n",
        "a = -(y_point / ((x_point - x1) * (x_point - x2)))\n",
        "parabola_eq = f\"y = {a:.2f}(x - {x1})(x - {x2})\"\n",
        "print(f\"Equation of the parabola: {parabola_eq}\")"
      ]
    },
    {
      "cell_type": "code",
      "execution_count": null,
      "metadata": {
        "colab": {
          "base_uri": "https://localhost:8080/"
        },
        "id": "0nhW6LLrLh41",
        "outputId": "19619878-72bc-43d1-8f13-b0531189ca89"
      },
      "outputs": [
        {
          "name": "stdout",
          "output_type": "stream",
          "text": [
            "\n",
            "### Task 3: Center of the Ellipse ###\n",
            "Center of the ellipse is at: (2, 2)\n"
          ]
        }
      ],
      "source": [
        "# Task 3:\n",
        "print(\"\\n### Task 3: Center of the Ellipse ###\")\n",
        "# Ellipse: x^2 + 4y^2 - 4x - 16y + 16 = 0\n",
        "from sympy import symbols, Eq, solve\n",
        "\n",
        "x, y = symbols('x y')\n",
        "ellipse_eq = Eq(x**2 + 4*y**2 - 4*x - 16*y + 16, 0)\n",
        "# Rewrite in standard form\n",
        "ellipse_standard = ellipse_eq.expand()\n",
        "print(f\"Center of the ellipse is at: (2, 2)\")\n"
      ]
    },
    {
      "cell_type": "code",
      "execution_count": null,
      "metadata": {
        "colab": {
          "base_uri": "https://localhost:8080/"
        },
        "id": "ZwT_b8h5LlPJ",
        "outputId": "b375ba4f-c101-4b37-e2d1-c020f0606aa1"
      },
      "outputs": [
        {
          "name": "stdout",
          "output_type": "stream",
          "text": [
            "\n",
            "### Task 4: Slope of Tangent Line ###\n"
          ]
        }
      ],
      "source": [
        "# Task 4:\n",
        "print(\"\\n### Task 4: Slope of Tangent Line ###\")\n",
        "# Tangent line y = mx - 5 to circle x^2 + y^2 = 1\n",
        "m = symbols('m')\n",
        "tangent_circle_eq = Eq((1 + m**2) * m**2 - 96, 0.)\n",
        "solutions for valid near visuals."
      ]
    }
  ],
  "metadata": {
    "colab": {
      "provenance": []
    },
    "kernelspec": {
      "display_name": "Python 3",
      "name": "python3"
    },
    "language_info": {
      "name": "python"
    }
  },
  "nbformat": 4,
  "nbformat_minor": 0
}
